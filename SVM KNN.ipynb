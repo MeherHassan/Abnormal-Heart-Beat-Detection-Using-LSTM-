{
  "nbformat": 4,
  "nbformat_minor": 0,
  "metadata": {
    "colab": {
      "name": "Untitled0.ipynb",
      "provenance": []
    },
    "kernelspec": {
      "name": "python3",
      "display_name": "Python 3"
    }
  },
  "cells": [
    {
      "cell_type": "code",
      "metadata": {
        "colab": {
          "base_uri": "https://localhost:8080/"
        },
        "id": "M3AjHoBdlPhB",
        "outputId": "65d98779-ca74-4116-b8a6-fc5c93d0b43a"
      },
      "source": [
        "!gdown --id 16MIleqoIr1vYxlGk4GKnGmrsCPuWkkpT\n",
        "!unzip -qq ECG5000.zip\n",
        "!pip install  -qq arff2pandas\n",
        "from sklearn.metrics import confusion_matrix, classification_report\n",
        "from glob import glob\n",
        "import time\n",
        "import copy\n",
        "import shutil\n",
        "\n",
        "import torch\n",
        "\n",
        "import copy\n",
        "import numpy as np\n",
        "import pandas as pd\n",
        "import seaborn as sns\n",
        "from pylab import rcParams\n",
        "import matplotlib.pyplot as plt\n",
        "from matplotlib import rc\n",
        "from sklearn.model_selection import train_test_split\n",
        "\n",
        "from torch import nn, optim\n",
        "\n",
        "import torch.nn.functional as F\n",
        "from arff2pandas import a2p\n",
        "\n",
        "\n",
        "%matplotlib inline\n",
        "%config InlineBackend.figure_format='retina'\n",
        "\n",
        "sns.set(style=\"whitegrid\",palette='muted',font_scale=1.2)\n",
        "HAPPY_COLORS_PALETTE=[\"#01BEFE\",\"#FFDD00\",\"#FF7D00\",\"#FF006D\",\"#ADFF02\",\"#8F00FF\"]\n",
        "sns.set_palette(sns.color_palette(HAPPY_COLORS_PALETTE))\n",
        "rcParams['figure.figsize']=12,8\n",
        "\n",
        "RANDOM_SEED =42\n",
        "np.random.seed(RANDOM_SEED)\n",
        "torch.manual_seed(RANDOM_SEED)\n",
        "device = torch.device(\"cuda\" if torch.cuda.is_available() else \"cpu\")\n",
        "with open('ECG5000_TRAIN.arff') as f:\n",
        "  train = a2p.load(f)\n",
        "with open('ECG5000_TEST.arff') as f:\n",
        "  test = a2p.load(f)\n",
        "df = train.append(test)\n",
        "df = df.sample(frac=1.0)\n",
        "CLASS_NORMAL = 1\n",
        "new_columns = list(df.columns)\n",
        "new_columns[-1] = 'target'\n",
        "df.columns = new_columns\n",
        "\n"
      ],
      "execution_count": 1,
      "outputs": [
        {
          "output_type": "stream",
          "name": "stdout",
          "text": [
            "Downloading...\n",
            "From: https://drive.google.com/uc?id=16MIleqoIr1vYxlGk4GKnGmrsCPuWkkpT\n",
            "To: /content/ECG5000.zip\n",
            "100% 10.6M/10.6M [00:00<00:00, 33.4MB/s]\n",
            "  Building wheel for arff2pandas (setup.py) ... \u001b[?25l\u001b[?25hdone\n",
            "  Building wheel for liac-arff (setup.py) ... \u001b[?25l\u001b[?25hdone\n"
          ]
        }
      ]
    },
    {
      "cell_type": "code",
      "source": [
        "dataset  = df"
      ],
      "metadata": {
        "id": "1tr80JdYTbT3"
      },
      "execution_count": 2,
      "outputs": []
    },
    {
      "cell_type": "code",
      "source": [
        "X = dataset.iloc[:, :-1].values\n",
        "y = dataset.iloc[:, 140].values"
      ],
      "metadata": {
        "id": "_kDMmN_ATkfX"
      },
      "execution_count": 8,
      "outputs": []
    },
    {
      "cell_type": "code",
      "source": [
        "from sklearn.model_selection import train_test_split\n",
        "X_train, X_test, y_train, y_test = train_test_split(X, y, test_size=0.20)"
      ],
      "metadata": {
        "id": "hw3QIEa4Tn-_"
      },
      "execution_count": 9,
      "outputs": []
    },
    {
      "cell_type": "code",
      "source": [
        "from sklearn.preprocessing import StandardScaler\n",
        "scaler = StandardScaler()\n",
        "scaler.fit(X_train)\n",
        "\n",
        "X_train = scaler.transform(X_train)\n",
        "X_test = scaler.transform(X_test)"
      ],
      "metadata": {
        "id": "yJ7XBjpfTrTP"
      },
      "execution_count": 10,
      "outputs": []
    },
    {
      "cell_type": "code",
      "source": [
        "from sklearn.neighbors import KNeighborsClassifier\n",
        "classifier = KNeighborsClassifier(n_neighbors=5)\n",
        "classifier.fit(X_train, y_train)"
      ],
      "metadata": {
        "colab": {
          "base_uri": "https://localhost:8080/"
        },
        "id": "QePiczFnTtcP",
        "outputId": "593a6580-4636-4559-ac7a-6190434863fa"
      },
      "execution_count": 11,
      "outputs": [
        {
          "output_type": "execute_result",
          "data": {
            "text/plain": [
              "KNeighborsClassifier()"
            ]
          },
          "metadata": {},
          "execution_count": 11
        }
      ]
    },
    {
      "cell_type": "code",
      "source": [
        "y_pred = classifier.predict(X_test)"
      ],
      "metadata": {
        "id": "eO2FyjTFUEyw"
      },
      "execution_count": 12,
      "outputs": []
    },
    {
      "cell_type": "code",
      "source": [
        "from sklearn.metrics import classification_report, confusion_matrix\n",
        "print(confusion_matrix(y_test, y_pred))\n",
        "print(classification_report(y_test, y_pred))"
      ],
      "metadata": {
        "colab": {
          "base_uri": "https://localhost:8080/"
        },
        "id": "KnmETug2UHAn",
        "outputId": "48409ad5-c684-4c2b-9a72-45b2cf32dcf4"
      },
      "execution_count": 13,
      "outputs": [
        {
          "output_type": "stream",
          "name": "stdout",
          "text": [
            "[[576   1   1   0   0]\n",
            " [  1 345   4   2   0]\n",
            " [  5   6   9   2   0]\n",
            " [  1  25   0  19   0]\n",
            " [  3   0   0   0   0]]\n",
            "              precision    recall  f1-score   support\n",
            "\n",
            "           1       0.98      1.00      0.99       578\n",
            "           2       0.92      0.98      0.95       352\n",
            "           3       0.64      0.41      0.50        22\n",
            "           4       0.83      0.42      0.56        45\n",
            "           5       0.00      0.00      0.00         3\n",
            "\n",
            "    accuracy                           0.95      1000\n",
            "   macro avg       0.67      0.56      0.60      1000\n",
            "weighted avg       0.94      0.95      0.94      1000\n",
            "\n"
          ]
        },
        {
          "output_type": "stream",
          "name": "stderr",
          "text": [
            "/usr/local/lib/python3.7/dist-packages/sklearn/metrics/_classification.py:1308: UndefinedMetricWarning: Precision and F-score are ill-defined and being set to 0.0 in labels with no predicted samples. Use `zero_division` parameter to control this behavior.\n",
            "  _warn_prf(average, modifier, msg_start, len(result))\n",
            "/usr/local/lib/python3.7/dist-packages/sklearn/metrics/_classification.py:1308: UndefinedMetricWarning: Precision and F-score are ill-defined and being set to 0.0 in labels with no predicted samples. Use `zero_division` parameter to control this behavior.\n",
            "  _warn_prf(average, modifier, msg_start, len(result))\n",
            "/usr/local/lib/python3.7/dist-packages/sklearn/metrics/_classification.py:1308: UndefinedMetricWarning: Precision and F-score are ill-defined and being set to 0.0 in labels with no predicted samples. Use `zero_division` parameter to control this behavior.\n",
            "  _warn_prf(average, modifier, msg_start, len(result))\n"
          ]
        }
      ]
    },
    {
      "cell_type": "code",
      "source": [
        "from sklearn.svm import SVC\n",
        "svclassifier = SVC(kernel='linear')\n",
        "svclassifier.fit(X_train, y_train)"
      ],
      "metadata": {
        "colab": {
          "base_uri": "https://localhost:8080/"
        },
        "id": "UMpetXvXYYVS",
        "outputId": "f4500563-a17b-4de3-ad92-5c35cb42a97f"
      },
      "execution_count": 14,
      "outputs": [
        {
          "output_type": "execute_result",
          "data": {
            "text/plain": [
              "SVC(kernel='linear')"
            ]
          },
          "metadata": {},
          "execution_count": 14
        }
      ]
    },
    {
      "cell_type": "code",
      "source": [
        "y_pred = svclassifier.predict(X_test)"
      ],
      "metadata": {
        "id": "AxfoGns7Yfh3"
      },
      "execution_count": 15,
      "outputs": []
    },
    {
      "cell_type": "code",
      "source": [
        "from sklearn.metrics import classification_report, confusion_matrix\n",
        "print(confusion_matrix(y_test,y_pred))\n",
        "print(classification_report(y_test,y_pred))"
      ],
      "metadata": {
        "colab": {
          "base_uri": "https://localhost:8080/"
        },
        "id": "DxcupTcDYiuX",
        "outputId": "3eb4fff3-fb72-4166-b7ef-8049eabe4423"
      },
      "execution_count": 16,
      "outputs": [
        {
          "output_type": "stream",
          "name": "stdout",
          "text": [
            "[[572   3   2   0   1]\n",
            " [  1 340   7   4   0]\n",
            " [  1   7  12   2   0]\n",
            " [  2  30   1  12   0]\n",
            " [  3   0   0   0   0]]\n",
            "              precision    recall  f1-score   support\n",
            "\n",
            "           1       0.99      0.99      0.99       578\n",
            "           2       0.89      0.97      0.93       352\n",
            "           3       0.55      0.55      0.55        22\n",
            "           4       0.67      0.27      0.38        45\n",
            "           5       0.00      0.00      0.00         3\n",
            "\n",
            "    accuracy                           0.94      1000\n",
            "   macro avg       0.62      0.55      0.57      1000\n",
            "weighted avg       0.93      0.94      0.93      1000\n",
            "\n"
          ]
        }
      ]
    },
    {
      "cell_type": "markdown",
      "source": [
        "SMOTE\n"
      ],
      "metadata": {
        "id": "MPCgeoy7bRKw"
      }
    },
    {
      "cell_type": "code",
      "source": [
        "from imblearn.over_sampling import RandomOverSampler\n",
        "ros = RandomOverSampler(random_state=0)\n",
        "X_resampled, y_resampled = ros.fit_resample(X, y)\n",
        "from collections import Counter\n",
        "print(sorted(Counter(y_resampled).items()))"
      ],
      "metadata": {
        "colab": {
          "base_uri": "https://localhost:8080/"
        },
        "id": "yENfJhWJbUhw",
        "outputId": "db448855-2503-43df-ce8c-8b68fbcc6a8a"
      },
      "execution_count": 20,
      "outputs": [
        {
          "output_type": "stream",
          "name": "stdout",
          "text": [
            "[('1', 2919), ('2', 2919), ('3', 2919), ('4', 2919), ('5', 2919)]\n"
          ]
        }
      ]
    },
    {
      "cell_type": "code",
      "source": [
        "from sklearn.svm import SVC\n",
        "svclassifier = SVC(kernel='linear')\n",
        "svclassifier.fit(X_resampled, y_resampled)"
      ],
      "metadata": {
        "colab": {
          "base_uri": "https://localhost:8080/"
        },
        "id": "BmMkOQ23cAoZ",
        "outputId": "9b031187-b529-41bf-de7a-6611e6144932"
      },
      "execution_count": 21,
      "outputs": [
        {
          "output_type": "execute_result",
          "data": {
            "text/plain": [
              "SVC(kernel='linear')"
            ]
          },
          "metadata": {},
          "execution_count": 21
        }
      ]
    },
    {
      "cell_type": "code",
      "source": [
        "y_pred = svclassifier.predict(X_test)"
      ],
      "metadata": {
        "id": "reTeaHGucOOa"
      },
      "execution_count": 22,
      "outputs": []
    },
    {
      "cell_type": "code",
      "source": [
        "from sklearn.metrics import classification_report, confusion_matrix\n",
        "print(confusion_matrix(y_test,y_pred))\n",
        "print(classification_report(y_test,y_pred))"
      ],
      "metadata": {
        "colab": {
          "base_uri": "https://localhost:8080/"
        },
        "id": "rnn7I0TrcWgY",
        "outputId": "915672a8-c1dd-459c-cd2e-29d6a7ab92c3"
      },
      "execution_count": 23,
      "outputs": [
        {
          "output_type": "stream",
          "name": "stdout",
          "text": [
            "[[447  29  87  11   4]\n",
            " [  4 318  18  11   1]\n",
            " [  1   6  15   0   0]\n",
            " [  2  37   2   4   0]\n",
            " [  2   0   0   0   1]]\n",
            "              precision    recall  f1-score   support\n",
            "\n",
            "           1       0.98      0.77      0.86       578\n",
            "           2       0.82      0.90      0.86       352\n",
            "           3       0.12      0.68      0.21        22\n",
            "           4       0.15      0.09      0.11        45\n",
            "           5       0.17      0.33      0.22         3\n",
            "\n",
            "    accuracy                           0.79      1000\n",
            "   macro avg       0.45      0.56      0.45      1000\n",
            "weighted avg       0.86      0.79      0.81      1000\n",
            "\n"
          ]
        }
      ]
    },
    {
      "cell_type": "code",
      "source": [
        "classifier = KNeighborsClassifier(n_neighbors=5)\n",
        "classifier.fit(X_resampled, y_resampled)"
      ],
      "metadata": {
        "colab": {
          "base_uri": "https://localhost:8080/"
        },
        "id": "MyAirIyee-6r",
        "outputId": "f03e5849-e46f-4351-a69a-4a2ad38386de"
      },
      "execution_count": 24,
      "outputs": [
        {
          "output_type": "execute_result",
          "data": {
            "text/plain": [
              "KNeighborsClassifier()"
            ]
          },
          "metadata": {},
          "execution_count": 24
        }
      ]
    },
    {
      "cell_type": "code",
      "source": [
        "y_pred = classifier.predict(X_test)"
      ],
      "metadata": {
        "id": "4pEt4qjkfGKx"
      },
      "execution_count": 25,
      "outputs": []
    },
    {
      "cell_type": "code",
      "source": [
        "from sklearn.metrics import classification_report, confusion_matrix\n",
        "print(confusion_matrix(y_test, y_pred))\n",
        "print(classification_report(y_test, y_pred))"
      ],
      "metadata": {
        "colab": {
          "base_uri": "https://localhost:8080/"
        },
        "id": "4VLcs-tAfJbZ",
        "outputId": "720a0d00-a4f2-420a-9dab-f1f878135562"
      },
      "execution_count": 26,
      "outputs": [
        {
          "output_type": "stream",
          "name": "stdout",
          "text": [
            "[[468  31  69   6   4]\n",
            " [  1 275  23  25  28]\n",
            " [  0   5  14   3   0]\n",
            " [  0  17   7  20   1]\n",
            " [  1   0   2   0   0]]\n",
            "              precision    recall  f1-score   support\n",
            "\n",
            "           1       1.00      0.81      0.89       578\n",
            "           2       0.84      0.78      0.81       352\n",
            "           3       0.12      0.64      0.20        22\n",
            "           4       0.37      0.44      0.40        45\n",
            "           5       0.00      0.00      0.00         3\n",
            "\n",
            "    accuracy                           0.78      1000\n",
            "   macro avg       0.47      0.53      0.46      1000\n",
            "weighted avg       0.89      0.78      0.82      1000\n",
            "\n"
          ]
        }
      ]
    }
  ]
}